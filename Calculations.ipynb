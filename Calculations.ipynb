{
 "cells": [
  {
   "cell_type": "code",
   "execution_count": 1,
   "metadata": {},
   "outputs": [
    {
     "name": "stdout",
     "output_type": "stream",
     "text": [
      "./CsvFiles/parent.csv already exists. Moving on...\n",
      "Your current grade in OSYS is 28.31, however your quiz grades have not been posted so take that into account. \n"
     ]
    }
   ],
   "source": [
    "import numpy as np\n",
    "import pandas as pd\n",
    "import Brightspace\n",
    "import os\n",
    "if os.path.isdir(\"CsvFiles\") == True:\n",
    "    #Storing each file path as a string to help with readability\n",
    "    networking_file = \"./CsvFiles/Networking.csv\"\n",
    "    osys_file = \"./CsvFiles/Osys.csv\"\n",
    "    datafund_file = \"./CsvFiles/DataFund.csv\"\n",
    "    web_file = \"./CsvFiles/Webdev.csv\"\n",
    "    prog_file = \"./CsvFiles/Prog.csv\"\n",
    "\n",
    "    df0 = pd.read_csv(networking_file)#Networking\n",
    "    df1 = pd.read_csv(osys_file)#Osys\n",
    "    df2 = pd.read_csv(datafund_file)#Data fundamentals\n",
    "    df3= pd.read_csv(web_file)#Web development\n",
    "    df4 = pd.read_csv(prog_file)#Programming\n",
    "\n",
    "    def osys():\n",
    "        str_to_float = []\n",
    "        df1.dropna()\n",
    "        df1.drop_duplicates()\n",
    "        df_osys = df1.to_numpy()\n",
    "        current = []\n",
    "        total = []\n",
    "        current_grade = {}\n",
    "        #possible_grade ={}\n",
    "        for i in df_osys:\n",
    "           if i[0] == \"Assignments\" or i[0] == \"Quizes\" or i[0] == \"Final Project\":\n",
    "                current.append(i[2].split('/')[0])\n",
    "                total.append(i[2].split('/')[1])\n",
    "            \n",
    "        current_grade = {\n",
    "            \"Assignments\":float(current[0]),\n",
    "            \"Quizzies\":float(current[1]),\n",
    "            \"Final Project\":float(current[2])\n",
    "            }\n",
    "        # possible_grade = {\n",
    "        #     \"Assignments\":float(total[0]),\n",
    "        #     \"Quizzies\":float(total[1]),\n",
    "        #     \"Final Project\":float(total[2])\n",
    "        # }\n",
    "        Actual = 0\n",
    "        Actual = current_grade['Assignments'] +current_grade[\"Final Project\"] +current_grade[\"Quizzies\"]\n",
    "        print(f'Your current grade in OSYS is {Actual}, however your quiz grades have not been posted so take that into account. ')\n",
    "               \n",
    "    def Networking():\n",
    "        pass\n",
    "\n",
    "    def data_fundamentals():\n",
    "        pass\n",
    "    \n",
    "    def web_dev():\n",
    "        pass\n",
    "\n",
    "    def prog_logic():\n",
    "        pass\n",
    "            \n",
    "    def main():\n",
    "        osys()\n",
    "\n",
    "    if __name__ ==\"__main__\":\n",
    "        main()\n",
    "else:\n",
    "    Brightspace"
   ]
  }
 ],
 "metadata": {
  "kernelspec": {
   "display_name": "Python 3",
   "language": "python",
   "name": "python3"
  },
  "language_info": {
   "codemirror_mode": {
    "name": "ipython",
    "version": 3
   },
   "file_extension": ".py",
   "mimetype": "text/x-python",
   "name": "python",
   "nbconvert_exporter": "python",
   "pygments_lexer": "ipython3",
   "version": "3.12.1"
  }
 },
 "nbformat": 4,
 "nbformat_minor": 2
}
